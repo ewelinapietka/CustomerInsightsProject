{
 "cells": [
  {
   "cell_type": "markdown",
   "id": "97e4e815",
   "metadata": {},
   "source": [
    "Setup and imports"
   ]
  },
  {
   "cell_type": "code",
   "execution_count": 1,
   "id": "b425cd5c",
   "metadata": {},
   "outputs": [],
   "source": [
    "import sys, os\n",
    "project_root = os.path.abspath(os.path.join(os.getcwd(), \"..\"))\n",
    "if project_root not in sys.path:\n",
    "    sys.path.insert(0, project_root)\n",
    "\n",
    "# Auto-reload\n",
    "%load_ext autoreload\n",
    "%autoreload 2\n",
    "\n",
    "# Imports\n",
    "import pandas as pd\n",
    "import matplotlib.pyplot as plt\n",
    "from src.features import create_rfm\n",
    "from src.clustering import scale_rfm, run_kmeans, get_elbow_sse"
   ]
  },
  {
   "cell_type": "markdown",
   "id": "a53d6b48",
   "metadata": {},
   "source": [
    "Load cleaned data"
   ]
  },
  {
   "cell_type": "code",
   "execution_count": 2,
   "id": "3cf11eef",
   "metadata": {},
   "outputs": [],
   "source": [
    "df = pd.read_csv(\"../data/online_retail_cleaned.csv\")\n",
    "df['InvoiceDate'] = pd.to_datetime(df['InvoiceDate'])"
   ]
  },
  {
   "cell_type": "markdown",
   "id": "353849f1",
   "metadata": {},
   "source": [
    "Create RFM features"
   ]
  },
  {
   "cell_type": "code",
   "execution_count": 3,
   "id": "0eda0649",
   "metadata": {},
   "outputs": [],
   "source": [
    "rfm = create_rfm(df)"
   ]
  },
  {
   "cell_type": "markdown",
   "id": "cf9f511d",
   "metadata": {},
   "source": [
    "Scale RFM and find optimal K"
   ]
  },
  {
   "cell_type": "code",
   "execution_count": 4,
   "id": "4861ec40",
   "metadata": {},
   "outputs": [
    {
     "data": {
      "image/png": "[encoded data removed]",
      "text/plain": [
       "<Figure size 640x480 with 1 Axes>"
      ]
     },
     "metadata": {},
     "output_type": "display_data"
    }
   ],
   "source": [
    "rfm_scaled = scale_rfm(rfm)\n",
    "\n",
    "# Elbow Method\n",
    "sse = get_elbow_sse(rfm_scaled, max_k=10)\n",
    "\n",
    "plt.plot(range(1, 10), sse, marker='o')\n",
    "plt.title(\"Elbow Method for Optimal k\")\n",
    "plt.xlabel(\"Number of clusters (k)\")\n",
    "plt.ylabel(\"SSE\")\n",
    "plt.show()"
   ]
  },
  {
   "cell_type": "markdown",
   "id": "0485c1c5",
   "metadata": {},
   "source": [
    "Run KMeans clustering"
   ]
  },
  {
   "cell_type": "code",
   "execution_count": 5,
   "id": "083a97a0",
   "metadata": {},
   "outputs": [
    {
     "data": {
      "text/html": [
       "<div>\n",
       "<style scoped>\n",
       "    .dataframe tbody tr th:only-of-type {\n",
       "        vertical-align: middle;\n",
       "    }\n",
       "\n",
       "    .dataframe tbody tr th {\n",
       "        vertical-align: top;\n",
       "    }\n",
       "\n",
       "    .dataframe thead th {\n",
       "        text-align: right;\n",
       "    }\n",
       "</style>\n",
       "<table border=\"1\" class=\"dataframe\">\n",
       "  <thead>\n",
       "    <tr style=\"text-align: right;\">\n",
       "      <th></th>\n",
       "      <th>Recency</th>\n",
       "      <th>Frequency</th>\n",
       "      <th>Monetary</th>\n",
       "      <th>CustomerID</th>\n",
       "    </tr>\n",
       "    <tr>\n",
       "      <th>Segment</th>\n",
       "      <th></th>\n",
       "      <th></th>\n",
       "      <th></th>\n",
       "      <th></th>\n",
       "    </tr>\n",
       "  </thead>\n",
       "  <tbody>\n",
       "    <tr>\n",
       "      <th>0</th>\n",
       "      <td>40.443245</td>\n",
       "      <td>101.011104</td>\n",
       "      <td>1943.356013</td>\n",
       "      <td>3242</td>\n",
       "    </tr>\n",
       "    <tr>\n",
       "      <th>1</th>\n",
       "      <td>30.000000</td>\n",
       "      <td>915.857143</td>\n",
       "      <td>121183.096429</td>\n",
       "      <td>14</td>\n",
       "    </tr>\n",
       "    <tr>\n",
       "      <th>2</th>\n",
       "      <td>246.330241</td>\n",
       "      <td>27.386827</td>\n",
       "      <td>563.855622</td>\n",
       "      <td>1078</td>\n",
       "    </tr>\n",
       "    <tr>\n",
       "      <th>3</th>\n",
       "      <td>1.000000</td>\n",
       "      <td>5717.250000</td>\n",
       "      <td>70612.247500</td>\n",
       "      <td>4</td>\n",
       "    </tr>\n",
       "  </tbody>\n",
       "</table>\n",
       "</div>"
      ],
      "text/plain": [
       "            Recency    Frequency       Monetary  CustomerID\n",
       "Segment                                                    \n",
       "0         40.443245   101.011104    1943.356013        3242\n",
       "1         30.000000   915.857143  121183.096429          14\n",
       "2        246.330241    27.386827     563.855622        1078\n",
       "3          1.000000  5717.250000   70612.247500           4"
      ]
     },
     "execution_count": 5,
     "metadata": {},
     "output_type": "execute_result"
    }
   ],
   "source": [
    "labels, _ = run_kmeans(rfm_scaled, n_clusters=4)\n",
    "rfm['Segment'] = labels\n",
    "\n",
    "# View segmentation\n",
    "rfm.groupby('Segment').agg({\n",
    "    'Recency': 'mean',\n",
    "    'Frequency': 'mean',\n",
    "    'Monetary': 'mean',\n",
    "    'CustomerID': 'count'\n",
    "})"
   ]
  },
  {
   "cell_type": "markdown",
   "id": "cfdde87b",
   "metadata": {},
   "source": [
    "Save segmentation results"
   ]
  },
  {
   "cell_type": "code",
   "execution_count": 6,
   "id": "60d6197c",
   "metadata": {},
   "outputs": [
    {
     "name": "stdout",
     "output_type": "stream",
     "text": [
      "✅ Customer segments saved to 'results/customer_segments.csv'\n"
     ]
    }
   ],
   "source": [
    "rfm.to_csv(\"../results/customer_segments.csv\", index=False)\n",
    "print(\"✅ Customer segments saved to 'results/customer_segments.csv'\")"
   ]
  },
  {
   "cell_type": "code",
   "execution_count": null,
   "id": "95bc60de",
   "metadata": {},
   "outputs": [],
   "source": []
  }
 ],
 "metadata": {
  "kernelspec": {
   "display_name": "venv",
   "language": "python",
   "name": "python3"
  },
  "language_info": {
   "codemirror_mode": {
    "name": "ipython",
    "version": 3
   },
   "file_extension": ".py",
   "mimetype": "text/x-python",
   "name": "python",
   "nbconvert_exporter": "python",
   "pygments_lexer": "ipython3",
   "version": "3.11.9"
  }
 },
 "nbformat": 4,
 "nbformat_minor": 5
}
