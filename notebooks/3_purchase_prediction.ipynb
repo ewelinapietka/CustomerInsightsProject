{
 "cells": [
  {
   "cell_type": "code",
   "execution_count": null,
   "id": "055a8c16",
   "metadata": {},
   "outputs": [],
   "source": [
    "import pandas as pd\n",
    "import numpy as np\n",
    "import os\n",
    "from sklearn.model_selection import train_test_split\n",
    "from sklearn.ensemble import RandomForestClassifier\n",
    "from sklearn.metrics import classification_report, confusion_matrix\n",
    "from sklearn.model_selection import RandomizedSearchCV\n",
    "import joblib"
   ]
  },
  {
   "cell_type": "code",
   "execution_count": 3,
   "id": "a3b2d23a",
   "metadata": {},
   "outputs": [],
   "source": [
    "df = pd.read_csv(\"../data/online_retail_cleaned.csv\")"
   ]
  },
  {
   "cell_type": "code",
   "execution_count": 4,
   "id": "933bdf7f",
   "metadata": {},
   "outputs": [],
   "source": [
    "\n",
    "df['InvoiceDate'] = pd.to_datetime(df['InvoiceDate'])\n",
    "cutoff = df['InvoiceDate'].max() - pd.Timedelta(days=30)\n",
    "df['RecentPurchase'] = (df['InvoiceDate'] > cutoff).astype(int)"
   ]
  },
  {
   "cell_type": "code",
   "execution_count": 5,
   "id": "33b276bf",
   "metadata": {},
   "outputs": [
    {
     "data": {
      "text/html": [
       "<div>\n",
       "<style scoped>\n",
       "    .dataframe tbody tr th:only-of-type {\n",
       "        vertical-align: middle;\n",
       "    }\n",
       "\n",
       "    .dataframe tbody tr th {\n",
       "        vertical-align: top;\n",
       "    }\n",
       "\n",
       "    .dataframe thead th {\n",
       "        text-align: right;\n",
       "    }\n",
       "</style>\n",
       "<table border=\"1\" class=\"dataframe\">\n",
       "  <thead>\n",
       "    <tr style=\"text-align: right;\">\n",
       "      <th></th>\n",
       "      <th>CustomerID</th>\n",
       "      <th>Quantity</th>\n",
       "      <th>UnitPrice</th>\n",
       "      <th>TotalPrice</th>\n",
       "      <th>Frequency</th>\n",
       "    </tr>\n",
       "  </thead>\n",
       "  <tbody>\n",
       "    <tr>\n",
       "      <th>0</th>\n",
       "      <td>12346.0</td>\n",
       "      <td>74215</td>\n",
       "      <td>1.040000</td>\n",
       "      <td>77183.60</td>\n",
       "      <td>1</td>\n",
       "    </tr>\n",
       "    <tr>\n",
       "      <th>1</th>\n",
       "      <td>12347.0</td>\n",
       "      <td>2458</td>\n",
       "      <td>2.644011</td>\n",
       "      <td>4310.00</td>\n",
       "      <td>7</td>\n",
       "    </tr>\n",
       "    <tr>\n",
       "      <th>2</th>\n",
       "      <td>12348.0</td>\n",
       "      <td>2341</td>\n",
       "      <td>5.764839</td>\n",
       "      <td>1797.24</td>\n",
       "      <td>4</td>\n",
       "    </tr>\n",
       "    <tr>\n",
       "      <th>3</th>\n",
       "      <td>12349.0</td>\n",
       "      <td>631</td>\n",
       "      <td>8.289041</td>\n",
       "      <td>1757.55</td>\n",
       "      <td>1</td>\n",
       "    </tr>\n",
       "    <tr>\n",
       "      <th>4</th>\n",
       "      <td>12350.0</td>\n",
       "      <td>197</td>\n",
       "      <td>3.841176</td>\n",
       "      <td>334.40</td>\n",
       "      <td>1</td>\n",
       "    </tr>\n",
       "  </tbody>\n",
       "</table>\n",
       "</div>"
      ],
      "text/plain": [
       "   CustomerID  Quantity  UnitPrice  TotalPrice  Frequency\n",
       "0     12346.0     74215   1.040000    77183.60          1\n",
       "1     12347.0      2458   2.644011     4310.00          7\n",
       "2     12348.0      2341   5.764839     1797.24          4\n",
       "3     12349.0       631   8.289041     1757.55          1\n",
       "4     12350.0       197   3.841176      334.40          1"
      ]
     },
     "execution_count": 5,
     "metadata": {},
     "output_type": "execute_result"
    }
   ],
   "source": [
    "# Create customer-level data\n",
    "X = df.groupby('CustomerID').agg({\n",
    "    'Quantity': 'sum',\n",
    "    'UnitPrice': 'mean',\n",
    "    'TotalPrice': 'sum',\n",
    "    'InvoiceNo': 'nunique',\n",
    "    'RecentPurchase': 'max'\n",
    "}).reset_index()\n",
    "\n",
    "X = X.rename(columns={'InvoiceNo': 'Frequency'})\n",
    "y = X.pop('RecentPurchase')\n",
    "\n",
    "X.head()"
   ]
  },
  {
   "cell_type": "code",
   "execution_count": 6,
   "id": "aa4829fb",
   "metadata": {},
   "outputs": [],
   "source": [
    "X_train, X_test, y_train, y_test = train_test_split(\n",
    "    X.drop('CustomerID', axis=1),\n",
    "    y,\n",
    "    test_size=0.2,\n",
    "    stratify=y,\n",
    "    random_state=42\n",
    ")"
   ]
  },
  {
   "cell_type": "code",
   "execution_count": 15,
   "id": "c81c25b7",
   "metadata": {},
   "outputs": [],
   "source": [
    "model = RandomForestClassifier(n_estimators=100, random_state=42, class_weight='balanced')\n",
    "model.fit(X_train, y_train)\n",
    "\n",
    "y_pred = model.predict(X_test)"
   ]
  },
  {
   "cell_type": "code",
   "execution_count": 16,
   "id": "4ac71a4c",
   "metadata": {},
   "outputs": [
    {
     "name": "stdout",
     "output_type": "stream",
     "text": [
      "Confusion Matrix:\n",
      " [[451  87]\n",
      " [165 165]]\n",
      "\n",
      "Classification Report:\n",
      "               precision    recall  f1-score   support\n",
      "\n",
      "           0       0.73      0.84      0.78       538\n",
      "           1       0.65      0.50      0.57       330\n",
      "\n",
      "    accuracy                           0.71       868\n",
      "   macro avg       0.69      0.67      0.67       868\n",
      "weighted avg       0.70      0.71      0.70       868\n",
      "\n",
      "✅ Report saved to 'results/prediction_report.txt'\n"
     ]
    }
   ],
   "source": [
    "print(\"Confusion Matrix:\\n\", confusion_matrix(y_test, y_pred))\n",
    "print(\"\\nClassification Report:\\n\", classification_report(y_test, y_pred))\n",
    "\n",
    "with open(\"../results/prediction_report.txt\", \"w\") as f:\n",
    "    f.write(classification_report(y_test, y_pred))\n",
    "\n",
    "print(\"✅ Report saved to 'results/prediction_report.txt'\")"
   ]
  },
  {
   "cell_type": "code",
   "execution_count": null,
   "id": "f17ca221",
   "metadata": {},
   "outputs": [
    {
     "name": "stdout",
     "output_type": "stream",
     "text": [
      "Fitting 5 folds for each of 50 candidates, totalling 250 fits\n"
     ]
    },
    {
     "name": "stderr",
     "output_type": "stream",
     "text": [
      "d:\\Dokumenty\\PythonProjects\\CustomerSegmentationAndPrediction\\venv\\Lib\\site-packages\\sklearn\\model_selection\\_validation.py:528: FitFailedWarning: \n",
      "105 fits failed out of a total of 250.\n",
      "The score on these train-test partitions for these parameters will be set to nan.\n",
      "If these failures are not expected, you can try to debug them by setting error_score='raise'.\n",
      "\n",
      "Below are more details about the failures:\n",
      "--------------------------------------------------------------------------------\n",
      "37 fits failed with the following error:\n",
      "Traceback (most recent call last):\n",
      "  File \"d:\\Dokumenty\\PythonProjects\\CustomerSegmentationAndPrediction\\venv\\Lib\\site-packages\\sklearn\\model_selection\\_validation.py\", line 866, in _fit_and_score\n",
      "    estimator.fit(X_train, y_train, **fit_params)\n",
      "  File \"d:\\Dokumenty\\PythonProjects\\CustomerSegmentationAndPrediction\\venv\\Lib\\site-packages\\sklearn\\base.py\", line 1382, in wrapper\n",
      "    estimator._validate_params()\n",
      "  File \"d:\\Dokumenty\\PythonProjects\\CustomerSegmentationAndPrediction\\venv\\Lib\\site-packages\\sklearn\\base.py\", line 436, in _validate_params\n",
      "    validate_parameter_constraints(\n",
      "  File \"d:\\Dokumenty\\PythonProjects\\CustomerSegmentationAndPrediction\\venv\\Lib\\site-packages\\sklearn\\utils\\_param_validation.py\", line 98, in validate_parameter_constraints\n",
      "    raise InvalidParameterError(\n",
      "sklearn.utils._param_validation.InvalidParameterError: The 'max_features' parameter of RandomForestClassifier must be an int in the range [1, inf), a float in the range (0.0, 1.0], a str among {'log2', 'sqrt'} or None. Got 'auto' instead.\n",
      "\n",
      "--------------------------------------------------------------------------------\n",
      "68 fits failed with the following error:\n",
      "Traceback (most recent call last):\n",
      "  File \"d:\\Dokumenty\\PythonProjects\\CustomerSegmentationAndPrediction\\venv\\Lib\\site-packages\\sklearn\\model_selection\\_validation.py\", line 866, in _fit_and_score\n",
      "    estimator.fit(X_train, y_train, **fit_params)\n",
      "  File \"d:\\Dokumenty\\PythonProjects\\CustomerSegmentationAndPrediction\\venv\\Lib\\site-packages\\sklearn\\base.py\", line 1382, in wrapper\n",
      "    estimator._validate_params()\n",
      "  File \"d:\\Dokumenty\\PythonProjects\\CustomerSegmentationAndPrediction\\venv\\Lib\\site-packages\\sklearn\\base.py\", line 436, in _validate_params\n",
      "    validate_parameter_constraints(\n",
      "  File \"d:\\Dokumenty\\PythonProjects\\CustomerSegmentationAndPrediction\\venv\\Lib\\site-packages\\sklearn\\utils\\_param_validation.py\", line 98, in validate_parameter_constraints\n",
      "    raise InvalidParameterError(\n",
      "sklearn.utils._param_validation.InvalidParameterError: The 'max_features' parameter of RandomForestClassifier must be an int in the range [1, inf), a float in the range (0.0, 1.0], a str among {'sqrt', 'log2'} or None. Got 'auto' instead.\n",
      "\n",
      "  warnings.warn(some_fits_failed_message, FitFailedWarning)\n",
      "d:\\Dokumenty\\PythonProjects\\CustomerSegmentationAndPrediction\\venv\\Lib\\site-packages\\sklearn\\model_selection\\_search.py:1108: UserWarning: One or more of the test scores are non-finite: [0.62466058 0.57511885 0.61877427 0.58639648        nan 0.64006465\n",
      " 0.57296368 0.63989012        nan        nan        nan        nan\n",
      " 0.56414165 0.57741936        nan        nan        nan        nan\n",
      " 0.63731294        nan 0.55651702        nan 0.61520679        nan\n",
      "        nan 0.60040166        nan        nan 0.62581901 0.62487549\n",
      " 0.55651702 0.64104057 0.60061979        nan 0.58052874        nan\n",
      "        nan        nan 0.6155968  0.62324774        nan        nan\n",
      " 0.56567009 0.62398173 0.61002845 0.62007514 0.57424329 0.63731294\n",
      " 0.55876813 0.6109608 ]\n",
      "  warnings.warn(\n"
     ]
    },
    {
     "name": "stdout",
     "output_type": "stream",
     "text": [
      "Best params: {'n_estimators': 500, 'min_samples_leaf': 10, 'max_features': 'sqrt', 'max_depth': 10, 'class_weight': {0: 1, 1: 3}}\n"
     ]
    }
   ],
   "source": [
    "\n",
    "param_dist = {\n",
    "    'n_estimators': [200, 500, 1000],\n",
    "    'max_depth': [None, 10, 20, 30],\n",
    "    'min_samples_leaf': [1, 2, 5, 10],\n",
    "    'max_features': ['auto', 'sqrt', 0.5],\n",
    "    'class_weight': ['balanced', {0:1, 1:2}, {0:1,1:3}]\n",
    "}\n",
    "\n",
    "clf = RandomizedSearchCV(\n",
    "    RandomForestClassifier(random_state=42),\n",
    "    param_distributions=param_dist,\n",
    "    n_iter=50,\n",
    "    scoring='f1',\n",
    "    cv=5,\n",
    "    verbose=1,\n",
    "    n_jobs=-1\n",
    ")\n",
    "clf.fit(X_train, y_train)\n",
    "print(\"Best params:\", clf.best_params_)\n"
   ]
  },
  {
   "cell_type": "code",
   "execution_count": 18,
   "id": "c291929f",
   "metadata": {},
   "outputs": [
    {
     "name": "stdout",
     "output_type": "stream",
     "text": [
      "[[304 234]\n",
      " [ 63 267]]\n",
      "              precision    recall  f1-score   support\n",
      "\n",
      "           0       0.83      0.57      0.67       538\n",
      "           1       0.53      0.81      0.64       330\n",
      "\n",
      "    accuracy                           0.66       868\n",
      "   macro avg       0.68      0.69      0.66       868\n",
      "weighted avg       0.72      0.66      0.66       868\n",
      "\n"
     ]
    }
   ],
   "source": [
    "best_params = {\n",
    "    'n_estimators': 500,\n",
    "    'max_depth': 10,\n",
    "    'min_samples_leaf': 10,\n",
    "    'max_features': 'sqrt',\n",
    "    'class_weight': {0:1, 1:3},\n",
    "    'random_state': 42\n",
    "}\n",
    "\n",
    "opt_rf = RandomForestClassifier(**best_params)\n",
    "opt_rf.fit(X_train, y_train)\n",
    "\n",
    "y_pred = opt_rf.predict(X_test)\n",
    "print(confusion_matrix(y_test, y_pred))\n",
    "print(classification_report(y_test, y_pred))"
   ]
  },
  {
   "cell_type": "code",
   "execution_count": null,
   "id": "5cb43a89",
   "metadata": {},
   "outputs": [
    {
     "data": {
      "text/plain": [
       "['purchase_model.pkl']"
      ]
     },
     "execution_count": 19,
     "metadata": {},
     "output_type": "execute_result"
    }
   ],
   "source": [
    "y_pred = model.predict(X_test)\n",
    "df_test = X_test.copy()\n",
    "\n",
    "# attach predictions to your test‐set\n",
    "df_test['purchase_pred'] = y_pred\n",
    "df_test.to_csv('purchase_predictions.csv', index=False)\n",
    "\n",
    "# serialize the trained model\n",
    "joblib.dump(model, 'purchase_model.pkl')"
   ]
  },
  {
   "cell_type": "code",
   "execution_count": null,
   "id": "5325b43a",
   "metadata": {},
   "outputs": [],
   "source": []
  }
 ],
 "metadata": {
  "kernelspec": {
   "display_name": "venv",
   "language": "python",
   "name": "python3"
  },
  "language_info": {
   "codemirror_mode": {
    "name": "ipython",
    "version": 3
   },
   "file_extension": ".py",
   "mimetype": "text/x-python",
   "name": "python",
   "nbconvert_exporter": "python",
   "pygments_lexer": "ipython3",
   "version": "3.11.9"
  }
 },
 "nbformat": 4,
 "nbformat_minor": 5
}
