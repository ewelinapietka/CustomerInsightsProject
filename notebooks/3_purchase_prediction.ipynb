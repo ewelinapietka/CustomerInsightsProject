{
 "cells": [
  {
   "cell_type": "markdown",
   "id": "672e441b",
   "metadata": {},
   "source": [
    "Setup and imports"
   ]
  },
  {
   "cell_type": "code",
   "execution_count": 1,
   "id": "555f0580",
   "metadata": {},
   "outputs": [],
   "source": [
    "import sys, os\n",
    "project_root = os.path.abspath(os.path.join(os.getcwd(), \"..\"))\n",
    "if project_root not in sys.path:\n",
    "    sys.path.insert(0, project_root)\n",
    "\n",
    "# Auto-reload\n",
    "%load_ext autoreload\n",
    "%autoreload 2\n",
    "\n",
    "# Imports\n",
    "import pandas as pd\n",
    "from sklearn.model_selection import train_test_split\n",
    "from src.classifier import train_model, evaluate_model\n"
   ]
  },
  {
   "cell_type": "markdown",
   "id": "4e6f9583",
   "metadata": {},
   "source": [
    "Load data and create label"
   ]
  },
  {
   "cell_type": "code",
   "execution_count": 2,
   "id": "687a957a",
   "metadata": {},
   "outputs": [],
   "source": [
    "df = pd.read_csv(\"../data/online_retail_cleaned.csv\")\n",
    "df['InvoiceDate'] = pd.to_datetime(df['InvoiceDate'])\n",
    "\n",
    "# Recent purchase label\n",
    "cutoff = df['InvoiceDate'].max() - pd.Timedelta(days=30)\n",
    "df['RecentPurchase'] = (df['InvoiceDate'] > cutoff).astype(int)\n",
    "\n",
    "# Aggregate to customer level\n",
    "X = df.groupby('CustomerID').agg({\n",
    "    'Quantity': 'sum',\n",
    "    'UnitPrice': 'mean',\n",
    "    'TotalPrice': 'sum',\n",
    "    'InvoiceNo': 'nunique',\n",
    "    'RecentPurchase': 'max'\n",
    "}).reset_index()\n",
    "\n",
    "X = X.rename(columns={'InvoiceNo': 'Frequency'})\n",
    "y = X.pop('RecentPurchase')\n"
   ]
  },
  {
   "cell_type": "markdown",
   "id": "c403875b",
   "metadata": {},
   "source": [
    "Train-test split"
   ]
  },
  {
   "cell_type": "code",
   "execution_count": 3,
   "id": "7830297b",
   "metadata": {},
   "outputs": [],
   "source": [
    "X_train, X_test, y_train, y_test = train_test_split(\n",
    "    X.drop('CustomerID', axis=1),\n",
    "    y,\n",
    "    test_size=0.2,\n",
    "    stratify=y,\n",
    "    random_state=42\n",
    ")"
   ]
  },
  {
   "cell_type": "markdown",
   "id": "c0004bef",
   "metadata": {},
   "source": [
    "Train model and evaluate"
   ]
  },
  {
   "cell_type": "code",
   "execution_count": 4,
   "id": "a0cfbfe8",
   "metadata": {},
   "outputs": [
    {
     "name": "stdout",
     "output_type": "stream",
     "text": [
      "Confusion Matrix:\n",
      " [[449  89]\n",
      " [165 165]]\n",
      "\n",
      "Classification Report:\n",
      "               precision    recall  f1-score   support\n",
      "\n",
      "           0       0.73      0.83      0.78       538\n",
      "           1       0.65      0.50      0.57       330\n",
      "\n",
      "    accuracy                           0.71       868\n",
      "   macro avg       0.69      0.67      0.67       868\n",
      "weighted avg       0.70      0.71      0.70       868\n",
      "\n"
     ]
    }
   ],
   "source": [
    "model = train_model(X_train, y_train, model_type='random_forest')\n",
    "\n",
    "cm, cr = evaluate_model(model, X_test, y_test, report_path=\"../results/prediction_report.txt\")\n",
    "\n",
    "print(\"Confusion Matrix:\\n\", cm)\n",
    "print(\"\\nClassification Report:\\n\", cr)\n"
   ]
  },
  {
   "cell_type": "code",
   "execution_count": null,
   "id": "66c912de",
   "metadata": {},
   "outputs": [],
   "source": []
  }
 ],
 "metadata": {
  "kernelspec": {
   "display_name": "venv",
   "language": "python",
   "name": "python3"
  },
  "language_info": {
   "codemirror_mode": {
    "name": "ipython",
    "version": 3
   },
   "file_extension": ".py",
   "mimetype": "text/x-python",
   "name": "python",
   "nbconvert_exporter": "python",
   "pygments_lexer": "ipython3",
   "version": "3.11.9"
  }
 },
 "nbformat": 4,
 "nbformat_minor": 5
}
